{
  "nbformat": 4,
  "nbformat_minor": 0,
  "metadata": {
    "kernelspec": {
      "display_name": "Python 3",
      "language": "python",
      "name": "python3"
    },
    "language_info": {
      "codemirror_mode": {
        "name": "ipython",
        "version": 3
      },
      "file_extension": ".py",
      "mimetype": "text/x-python",
      "name": "python",
      "nbconvert_exporter": "python",
      "pygments_lexer": "ipython3",
      "version": "3.8.6"
    },
    "colab": {
      "name": "jira-roadmap-plan",
      "provenance": [],
      "collapsed_sections": [],
      "toc_visible": true,
      "include_colab_link": true
    }
  },
  "cells": [
    {
      "cell_type": "markdown",
      "metadata": {
        "id": "view-in-github",
        "colab_type": "text"
      },
      "source": [
        "<a href=\"https://colab.research.google.com/github/bobman38/jira-notebooks/blob/main/jira_roadmap_plan.ipynb\" target=\"_parent\"><img src=\"https://colab.research.google.com/assets/colab-badge.svg\" alt=\"Open In Colab\"/></a>"
      ]
    },
    {
      "cell_type": "markdown",
      "metadata": {
        "id": "BNI4pmehcv7H"
      },
      "source": [
        "# Roadmap Plan\n",
        "\n",
        "This document will help you to plan a release for your project on Jira. It show you all `Epic` for a specific future version, and give you the consumed time and estimated time (rely on a custom field).\n",
        "\n",
        "It's a [Jupyter Notebook](https://jupyter.org/) document. Each code cell must been run in the order of the document."
      ]
    },
    {
      "cell_type": "markdown",
      "metadata": {
        "id": "aWou0EVUgPAM"
      },
      "source": [
        "# Prerequisiste\n",
        "\n",
        "First let's import the `jira` python package and import the needed libraries.  \n",
        "\n",
        "> Even if the result of this cell is not shown, it is needed to run this cell too or the other cells will fail."
      ]
    },
    {
      "cell_type": "code",
      "metadata": {
        "id": "-mjnEc5qcv7J",
        "cellView": "form"
      },
      "source": [
        "#@title Install Jira package and imports\n",
        "%%capture\n",
        "!pip install jira;\n",
        "from jira import JIRA\n",
        "from IPython.display import HTML\n",
        "import getpass\n",
        "import json\n",
        "import pandas as pd"
      ],
      "execution_count": null,
      "outputs": []
    },
    {
      "cell_type": "markdown",
      "metadata": {
        "id": "QXImrfBybCIi"
      },
      "source": [
        "# Connect to  Jira\n",
        "\n",
        "The next cell will connect to Jira and create the `jira` that will be used later. The `uid` field must be your Jira email, and the `pswd` field must be an API token that you can create [here](https://id.atlassian.com/manage-profile/security/api-tokens).  The `pswd` is asked only when the the cell is launched by security (never stored in the document)."
      ]
    },
    {
      "cell_type": "code",
      "metadata": {
        "id": "Mkn-RF4_cv9T"
      },
      "source": [
        "# Init Jira connection\n",
        "host = \"https://yoursite.atlassian.net\" #@param {type:\"string\"}\n",
        "uid = \"user@domain.ltd\" #@param {type:\"string\"}\n",
        "pswd = getpass.getpass('Password:')\n",
        "jira = JIRA(server=host, basic_auth=(uid, pswd))\n",
        "print(\"Connected to Jira !\")"
      ],
      "execution_count": null,
      "outputs": []
    },
    {
      "cell_type": "markdown",
      "metadata": {
        "id": "f2T9aZLFeVhp"
      },
      "source": [
        "# Epic Table\n",
        "\n",
        "The next cell will generate a table for all epic on a specific project and a specific version. The `estimatedTime` is sumed in the footer of the table. _Take note that here we are relying on a custom field (`customfield_10624`), you will have to adapt that on your Jira instance._"
      ]
    },
    {
      "cell_type": "code",
      "metadata": {
        "id": "Ctxbd3Ygcv9V"
      },
      "source": [
        "# Show epics !\n",
        "project = \"MYPROJECT\" #@param {type:\"string\"}\n",
        "version = \"1.0.0\" #@param {type:\"string\"}\n",
        "issues = jira.search_issues('project = \"' + project + '\" and issuetype = \"Epic\" and (fixversion = ' + version+ ') ORDER BY key DESC', maxResults=0,startAt=0)\n",
        "formated_issues = list()\n",
        "for issue in issues:\n",
        "    # Compute estimated for each epic\n",
        "    estimated = 0\n",
        "    if(issue.fields.customfield_10624):\n",
        "        estimated = float(issue.fields.customfield_10624.replace(\"d\", \"\"))\n",
        "    # add epic to list\n",
        "    formated_issues.append([issue.key, issue.fields.components, issue.fields.status.name, issue.fields.priority.name, issue.fields.summary, estimated])\n",
        "df = pd.DataFrame(formated_issues, columns=[\"id\", \"components\", \"status\", \"priority\", \"summary\", \"estimatedTime\"])\n",
        "df = df.sort_values([\"status\", \"estimatedTime\"])\n",
        "df['id'] = df['id'].apply(lambda x: '<a href=\"https://myurl.atlassian.net/browse/{0}\">{0}</a>'.format(x))\n",
        "df = df.append(pd.DataFrame([[df.id.count(), df.estimatedTime.sum()]], index = [\"Total\"], columns=[\"id\", \"estimatedTime\"]))\n",
        "HTML(df.to_html(escape=False))"
      ],
      "execution_count": null,
      "outputs": []
    }
  ]
}